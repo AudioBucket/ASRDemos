{
 "cells": [
  {
   "cell_type": "markdown",
   "metadata": {},
   "source": [
    "# Simple MLP demo\n",
    "\n",
    "This notebook demonstrates how to create a simple MLP for recognizing phonemes from speech. To do this, we will use a training dataset prepared in a different notebook titled *VoxforgeDataPrep*, so take a look at that before you start working on this demo.\n",
    "\n",
    "In this example, we will use the excellent [Keras](http://keras.io/) library which depends upon either Theano or TensorFlow, so you will need to install those as well. Just follow the isntructions on the Keras website - it is recommended to use the freshest, Github versions of both Keras and Theano.\n",
    "\n",
    "I also have the convinence of using the GPU for the actual computation. This code will work just as well on the CPU, but it's much faster on a good GPU.\n",
    "\n",
    "We start by importing numpy (for loading and working with the data) and the neccessary Keras classes. Feel free to add more here if you wish to experiment with them."
   ]
  },
  {
   "cell_type": "code",
   "execution_count": 1,
   "metadata": {
    "collapsed": false
   },
   "outputs": [
    {
     "name": "stdout",
     "output_type": "stream",
     "text": [
      "Using Theano backend.\n",
      "Couldn't import dot_parser, loading of dot files will not be possible.\n"
     ]
    },
    {
     "name": "stderr",
     "output_type": "stream",
     "text": [
      "Using gpu device 0: GeForce GTX TITAN (CNMeM is enabled)\n"
     ]
    }
   ],
   "source": [
    "import numpy as np\n",
    "from keras.models import Sequential\n",
    "from keras.layers.core import Dense, Activation\n",
    "from keras.optimizers import SGD, Adadelta"
   ]
  },
  {
   "cell_type": "markdown",
   "metadata": {},
   "source": [
    "First let's load our data. In the *VoxforgeDataPrep* notebook, we created to arrays - inputs and outputs. The input nas the dimensions (num_samples,num_features) and the output is simply 1D vector of ints of length (num_samples). In this step, we split the training data into actual training (90%) and dev (10%) and merge that with the test data. Finally we save the indices for all the sets (instead of actual arrays)."
   ]
  },
  {
   "cell_type": "code",
   "execution_count": 2,
   "metadata": {
    "collapsed": false
   },
   "outputs": [],
   "source": [
    "inputs=np.load('../data/mfcc_train_small/norm.npy')\n",
    "output_dec=np.load('../data/mfcc_train_small/out.npy')\n",
    "\n",
    "tst_in=np.load('../data/mfcc_test/norm.npy')\n",
    "tst_out_dec=np.load('../data/mfcc_test/out.npy')\n",
    "\n",
    "p2=inputs.shape[0]\n",
    "\n",
    "p1=int(p2*0.9)\n",
    "\n",
    "train_idx=range(0,p1)\n",
    "dev_idx=range(p1,p2)\n",
    "\n",
    "inputs=np.vstack((inputs,tst_in))\n",
    "output_dec=np.hstack((output_dec,tst_out_dec))\n",
    "\n",
    "num=inputs.shape[0]\n",
    "\n",
    "test_idx=range(p2,num)"
   ]
  },
  {
   "cell_type": "markdown",
   "metadata": {},
   "source": [
    "Next we define some constants for our program. Input and output dimensions can be inferred from the data, but the hidden layer size has to be defined manually.\n",
    "\n",
    "We also redefine our outputs as a 1-of-N matrix instead of an int vector. The old outputs were simply a list of integers (from 0 to 39) defining the phoneme (as listed in ../data/phones.list) class for each sample given at input. The new matrix has dimensions (num_samples, num_classes) and is mostly 0 with a single 1 put in place corresponding to the class index in the old output vector."
   ]
  },
  {
   "cell_type": "code",
   "execution_count": 3,
   "metadata": {
    "collapsed": false
   },
   "outputs": [],
   "source": [
    "input_dim=inputs.shape[1]\n",
    "output_dim=np.max(output_dec)+1\n",
    "\n",
    "hidden_num=256\n",
    "\n",
    "batch_size=256\n",
    "epoch_num=100\n",
    "\n",
    "outputs=np.zeros((num,output_dim))\n",
    "outputs[range(0,num),output_dec]=1"
   ]
  },
  {
   "cell_type": "code",
   "execution_count": 4,
   "metadata": {
    "collapsed": false
   },
   "outputs": [
    {
     "name": "stdout",
     "output_type": "stream",
     "text": [
      "Samples num: 1595108\n",
      "Input size: 39\n",
      "Output size (number of classes): 40\n"
     ]
    }
   ],
   "source": [
    "print 'Samples num: {}'.format(num)\n",
    "print 'Input size: {}'.format(input_dim)\n",
    "print 'Output size (number of classes): {}'.format(output_dim)"
   ]
  },
  {
   "cell_type": "markdown",
   "metadata": {},
   "source": [
    "## Model definition\n",
    "\n",
    "Here we define our model using the Keras interface. There are two main model types in Keras: sequential and graph. Sequential is much more common and easy to use, so we start with that.\n",
    "\n",
    "Next we define the MLP topology. Here we have 3 layers: input, hidden and output. They are interconnected with two sets of *Dense* weight connections and a layer of activation functions after these weights. When defining the *Dense* weight layers, we need to provide the size: input and output are neccessary only for the first layer, subsequent layers use the output size of the previous layer as their input size.\n",
    "\n",
    "We also define the type of optimizer and loss function we want to use. There are a few optimizers to choose from in the library and they are all interchangable. The differences between them are not too large in this example (feel free to experiment). The loss function chosen here is the cross-entropy function. Another option would be the simpler MSE (mean square error). Again, there doesn't seem to be much of a difference, but cross-entropy does seem like performing a bit better overall."
   ]
  },
  {
   "cell_type": "code",
   "execution_count": 5,
   "metadata": {
    "collapsed": false
   },
   "outputs": [],
   "source": [
    "model = Sequential()\n",
    "\n",
    "model.add(Dense(input_dim=input_dim,output_dim=hidden_num))\n",
    "model.add(Activation('sigmoid'))\n",
    "model.add(Dense(output_dim=output_dim))\n",
    "model.add(Activation('softmax'))\n",
    "\n",
    "#optimizer = SGD(lr=0.01, momentum=0.9, nesterov=True)\n",
    "optimizer= Adadelta()\n",
    "loss='categorical_crossentropy'"
   ]
  },
  {
   "cell_type": "markdown",
   "metadata": {},
   "source": [
    "After defining the model and all its parameters, we can compile it. This literally means compiling, because the model is converted into C++ code in the background and compiled with lots of optimizations to work as efficiently as possible. The process can take a while, but is worth the added speed in training."
   ]
  },
  {
   "cell_type": "code",
   "execution_count": 6,
   "metadata": {
    "collapsed": false
   },
   "outputs": [
    {
     "name": "stdout",
     "output_type": "stream",
     "text": [
      "--------------------------------------------------------------------------------\n",
      "Initial input shape: (None, 39)\n",
      "--------------------------------------------------------------------------------\n",
      "Layer (name)                  Output Shape                  Param #             \n",
      "--------------------------------------------------------------------------------\n",
      "Dense (dense)                 (None, 256)                   10240               \n",
      "Activation (activation)       (None, 256)                   0                   \n",
      "Dense (dense)                 (None, 40)                    10280               \n",
      "Activation (activation)       (None, 40)                    0                   \n",
      "--------------------------------------------------------------------------------\n",
      "Total params: 20520\n",
      "--------------------------------------------------------------------------------\n",
      "None\n"
     ]
    }
   ],
   "source": [
    "model.compile(loss=loss, optimizer=optimizer)\n",
    "\n",
    "print model.summary()"
   ]
  },
  {
   "cell_type": "markdown",
   "metadata": {},
   "source": [
    "We can also try and visualize the model using the builtin Dot painter:"
   ]
  },
  {
   "cell_type": "code",
   "execution_count": 7,
   "metadata": {
    "collapsed": false
   },
   "outputs": [
    {
     "data": {
      "image/png": "[encoded data removed]",
      "text/plain": [
       "<IPython.core.display.Image object>"
      ]
     },
     "execution_count": 7,
     "metadata": {},
     "output_type": "execute_result"
    }
   ],
   "source": [
    "from keras.utils import visualize_util\n",
    "from IPython.display import Image\n",
    "\n",
    "graph=visualize_util.to_graph(model,show_shape=True)\n",
    "graph.write_png('mlp.png')\n",
    "Image(filename='mlp.png') "
   ]
  },
  {
   "cell_type": "markdown",
   "metadata": {},
   "source": [
    "Finally, we can start training the model. We provide the training function both training and validation data and define a few parameters: batch size and number of training epochs. Changing the batch size can affect both the training speed and final accuracy. This value is also closely related to the number of epochs. Generally, you want to run the training for as many epochs as needed for the model to converge on some value. The value of 100 should be fine for a quick comparison but up to 1k may be necessary to be abolutely sure (especially when testing larger models).\n",
    "\n",
    "Setting the verbose value to 2 makes more sense in notebooks, but leaving it at one creates a nice progress bar if you run the program from the console."
   ]
  },
  {
   "cell_type": "code",
   "execution_count": 8,
   "metadata": {
    "collapsed": false
   },
   "outputs": [
    {
     "name": "stdout",
     "output_type": "stream",
     "text": [
      "Train on 1294586 samples, validate on 143843 samples\n",
      "Epoch 1/100\n",
      "5s - loss: 1.7526 - val_loss: 1.6316\n",
      "Epoch 2/100\n",
      "5s - loss: 1.5841 - val_loss: 1.5409\n",
      "Epoch 3/100\n",
      "5s - loss: 1.5079 - val_loss: 1.4883\n",
      "Epoch 4/100\n",
      "5s - loss: 1.4509 - val_loss: 1.4516\n",
      "Epoch 5/100\n",
      "5s - loss: 1.4081 - val_loss: 1.4060\n",
      "Epoch 6/100\n",
      "5s - loss: 1.3764 - val_loss: 1.3886\n",
      "Epoch 7/100\n",
      "5s - loss: 1.3523 - val_loss: 1.3681\n",
      "Epoch 8/100\n",
      "5s - loss: 1.3339 - val_loss: 1.3570\n",
      "Epoch 9/100\n",
      "5s - loss: 1.3186 - val_loss: 1.3436\n",
      "Epoch 10/100\n",
      "5s - loss: 1.3056 - val_loss: 1.3361\n",
      "Epoch 11/100\n",
      "5s - loss: 1.2946 - val_loss: 1.3222\n",
      "Epoch 12/100\n",
      "5s - loss: 1.2844 - val_loss: 1.3263\n",
      "Epoch 13/100\n",
      "5s - loss: 1.2756 - val_loss: 1.3162\n",
      "Epoch 14/100\n",
      "5s - loss: 1.2679 - val_loss: 1.3044\n",
      "Epoch 15/100\n",
      "5s - loss: 1.2611 - val_loss: 1.3020\n",
      "Epoch 16/100\n",
      "5s - loss: 1.2549 - val_loss: 1.3059\n",
      "Epoch 17/100\n",
      "5s - loss: 1.2496 - val_loss: 1.2891\n",
      "Epoch 18/100\n",
      "5s - loss: 1.2446 - val_loss: 1.2879\n",
      "Epoch 19/100\n",
      "5s - loss: 1.2400 - val_loss: 1.2803\n",
      "Epoch 20/100\n",
      "5s - loss: 1.2360 - val_loss: 1.2896\n",
      "Epoch 21/100\n",
      "5s - loss: 1.2319 - val_loss: 1.2777\n",
      "Epoch 22/100\n",
      "5s - loss: 1.2285 - val_loss: 1.2776\n",
      "Epoch 23/100\n",
      "5s - loss: 1.2253 - val_loss: 1.2735\n",
      "Epoch 24/100\n",
      "5s - loss: 1.2223 - val_loss: 1.2754\n",
      "Epoch 25/100\n",
      "5s - loss: 1.2194 - val_loss: 1.2685\n",
      "Epoch 26/100\n",
      "5s - loss: 1.2167 - val_loss: 1.2675\n",
      "Epoch 27/100\n",
      "5s - loss: 1.2142 - val_loss: 1.2677\n",
      "Epoch 28/100\n",
      "5s - loss: 1.2117 - val_loss: 1.2635\n",
      "Epoch 29/100\n",
      "5s - loss: 1.2096 - val_loss: 1.2662\n",
      "Epoch 30/100\n",
      "5s - loss: 1.2075 - val_loss: 1.2646\n",
      "Epoch 31/100\n",
      "5s - loss: 1.2057 - val_loss: 1.2559\n",
      "Epoch 32/100\n",
      "5s - loss: 1.2037 - val_loss: 1.2618\n",
      "Epoch 33/100\n",
      "5s - loss: 1.2018 - val_loss: 1.2623\n",
      "Epoch 34/100\n",
      "5s - loss: 1.2000 - val_loss: 1.2534\n",
      "Epoch 35/100\n",
      "5s - loss: 1.1984 - val_loss: 1.2685\n",
      "Epoch 36/100\n",
      "5s - loss: 1.1970 - val_loss: 1.2550\n",
      "Epoch 37/100\n",
      "5s - loss: 1.1953 - val_loss: 1.2513\n",
      "Epoch 38/100\n",
      "5s - loss: 1.1939 - val_loss: 1.2489\n",
      "Epoch 39/100\n",
      "5s - loss: 1.1925 - val_loss: 1.2449\n",
      "Epoch 40/100\n",
      "5s - loss: 1.1911 - val_loss: 1.2493\n",
      "Epoch 41/100\n",
      "5s - loss: 1.1900 - val_loss: 1.2493\n",
      "Epoch 42/100\n",
      "5s - loss: 1.1888 - val_loss: 1.2453\n",
      "Epoch 43/100\n",
      "5s - loss: 1.1875 - val_loss: 1.2434\n",
      "Epoch 44/100\n",
      "5s - loss: 1.1864 - val_loss: 1.2484\n",
      "Epoch 45/100\n",
      "5s - loss: 1.1854 - val_loss: 1.2491\n",
      "Epoch 46/100\n",
      "5s - loss: 1.1842 - val_loss: 1.2430\n",
      "Epoch 47/100\n",
      "5s - loss: 1.1833 - val_loss: 1.2535\n",
      "Epoch 48/100\n",
      "5s - loss: 1.1824 - val_loss: 1.2407\n",
      "Epoch 49/100\n",
      "5s - loss: 1.1813 - val_loss: 1.2411\n",
      "Epoch 50/100\n",
      "5s - loss: 1.1805 - val_loss: 1.2393\n",
      "Epoch 51/100\n",
      "5s - loss: 1.1795 - val_loss: 1.2466\n",
      "Epoch 52/100\n",
      "5s - loss: 1.1785 - val_loss: 1.2378\n",
      "Epoch 53/100\n",
      "5s - loss: 1.1777 - val_loss: 1.2420\n",
      "Epoch 54/100\n",
      "5s - loss: 1.1771 - val_loss: 1.2390\n",
      "Epoch 55/100\n",
      "5s - loss: 1.1762 - val_loss: 1.2433\n",
      "Epoch 56/100\n",
      "5s - loss: 1.1757 - val_loss: 1.2456\n",
      "Epoch 57/100\n",
      "5s - loss: 1.1748 - val_loss: 1.2421\n",
      "Epoch 58/100\n",
      "5s - loss: 1.1740 - val_loss: 1.2447\n",
      "Epoch 59/100\n",
      "5s - loss: 1.1733 - val_loss: 1.2433\n",
      "Epoch 60/100\n",
      "5s - loss: 1.1727 - val_loss: 1.2353\n",
      "Epoch 61/100\n",
      "5s - loss: 1.1719 - val_loss: 1.2424\n",
      "Epoch 62/100\n",
      "5s - loss: 1.1713 - val_loss: 1.2394\n",
      "Epoch 63/100\n",
      "5s - loss: 1.1708 - val_loss: 1.2460\n",
      "Epoch 64/100\n",
      "5s - loss: 1.1700 - val_loss: 1.2418\n",
      "Epoch 65/100\n",
      "5s - loss: 1.1693 - val_loss: 1.2344\n",
      "Epoch 66/100\n",
      "5s - loss: 1.1688 - val_loss: 1.2340\n",
      "Epoch 67/100\n",
      "5s - loss: 1.1684 - val_loss: 1.2379\n",
      "Epoch 68/100\n",
      "5s - loss: 1.1676 - val_loss: 1.2402\n",
      "Epoch 69/100\n",
      "5s - loss: 1.1671 - val_loss: 1.2394\n",
      "Epoch 70/100\n",
      "5s - loss: 1.1667 - val_loss: 1.2333\n",
      "Epoch 71/100\n",
      "5s - loss: 1.1662 - val_loss: 1.2315\n",
      "Epoch 72/100\n",
      "5s - loss: 1.1657 - val_loss: 1.2394\n",
      "Epoch 73/100\n",
      "5s - loss: 1.1651 - val_loss: 1.2353\n",
      "Epoch 74/100\n",
      "5s - loss: 1.1648 - val_loss: 1.2344\n",
      "Epoch 75/100\n",
      "5s - loss: 1.1643 - val_loss: 1.2331\n",
      "Epoch 76/100\n",
      "5s - loss: 1.1638 - val_loss: 1.2375\n",
      "Epoch 77/100\n",
      "5s - loss: 1.1634 - val_loss: 1.2304\n",
      "Epoch 78/100\n",
      "5s - loss: 1.1628 - val_loss: 1.2303\n",
      "Epoch 79/100\n",
      "5s - loss: 1.1626 - val_loss: 1.2357\n",
      "Epoch 80/100\n",
      "5s - loss: 1.1621 - val_loss: 1.2335\n",
      "Epoch 81/100\n",
      "5s - loss: 1.1615 - val_loss: 1.2376\n",
      "Epoch 82/100\n",
      "5s - loss: 1.1610 - val_loss: 1.2293\n",
      "Epoch 83/100\n",
      "5s - loss: 1.1607 - val_loss: 1.2339\n",
      "Epoch 84/100\n",
      "5s - loss: 1.1604 - val_loss: 1.2339\n",
      "Epoch 85/100\n",
      "5s - loss: 1.1600 - val_loss: 1.2316\n",
      "Epoch 86/100\n",
      "5s - loss: 1.1597 - val_loss: 1.2365\n",
      "Epoch 87/100\n",
      "5s - loss: 1.1592 - val_loss: 1.2291\n",
      "Epoch 88/100\n",
      "5s - loss: 1.1589 - val_loss: 1.2340\n",
      "Epoch 89/100\n",
      "5s - loss: 1.1583 - val_loss: 1.2486\n",
      "Epoch 90/100\n",
      "5s - loss: 1.1581 - val_loss: 1.2335\n",
      "Epoch 91/100\n",
      "5s - loss: 1.1577 - val_loss: 1.2342\n",
      "Epoch 92/100\n",
      "5s - loss: 1.1573 - val_loss: 1.2293\n",
      "Epoch 93/100\n",
      "5s - loss: 1.1570 - val_loss: 1.2270\n",
      "Epoch 94/100\n",
      "5s - loss: 1.1567 - val_loss: 1.2294\n",
      "Epoch 95/100\n",
      "5s - loss: 1.1563 - val_loss: 1.2284\n",
      "Epoch 96/100\n",
      "5s - loss: 1.1561 - val_loss: 1.2323\n",
      "Epoch 97/100\n",
      "5s - loss: 1.1557 - val_loss: 1.2280\n",
      "Epoch 98/100\n",
      "5s - loss: 1.1554 - val_loss: 1.2260\n",
      "Epoch 99/100\n",
      "5s - loss: 1.1551 - val_loss: 1.2300\n",
      "Epoch 100/100\n",
      "5s - loss: 1.1549 - val_loss: 1.2260\n"
     ]
    }
   ],
   "source": [
    "val=(inputs[dev_idx],outputs[dev_idx])\n",
    "\n",
    "hist=model.fit(inputs[train_idx], outputs[train_idx], batch_size=batch_size, nb_epoch=epoch_num, verbose=2, validation_data=val)"
   ]
  },
  {
   "cell_type": "markdown",
   "metadata": {},
   "source": [
    "The training method returns an object that contains the trained model parameters and the training history:"
   ]
  },
  {
   "cell_type": "code",
   "execution_count": 9,
   "metadata": {
    "collapsed": false
   },
   "outputs": [
    {
     "data": {
      "text/plain": [
       "[<matplotlib.lines.Line2D at 0x7f77856eedd0>]"
      ]
     },
     "execution_count": 9,
     "metadata": {},
     "output_type": "execute_result"
    },
    {
     "data": {
      "image/png": "[encoded data removed]",
      "text/plain": [
       "<matplotlib.figure.Figure at 0x7f7785a25390>"
      ]
     },
     "metadata": {},
     "output_type": "display_data"
    }
   ],
   "source": [
    "import matplotlib.pyplot as P\n",
    "%matplotlib inline\n",
    "\n",
    "P.plot(hist.history['loss'])"
   ]
  },
  {
   "cell_type": "markdown",
   "metadata": {},
   "source": [
    "You can get better graphs and more data if you overload the training callback method, which will provide you with the model parameters after each epoch during training.\n",
    "\n",
    "After the model is trained, we can easily test it using the evaluate method. The show_accuracy argument is required to compute the accuracy of the decision variable. The returned result has a 2-element list, where the first value is the loss of the model on the test data and the second is the accuracy:"
   ]
  },
  {
   "cell_type": "code",
   "execution_count": 10,
   "metadata": {
    "collapsed": true
   },
   "outputs": [],
   "source": [
    "res=model.evaluate(inputs[test_idx],outputs[test_idx],batch_size=batch_size,show_accuracy=True,verbose=0)"
   ]
  },
  {
   "cell_type": "code",
   "execution_count": 11,
   "metadata": {
    "collapsed": false
   },
   "outputs": [
    {
     "name": "stdout",
     "output_type": "stream",
     "text": [
      "Loss: 1.32272997582\n",
      "Accuracy: 61.161355%\n"
     ]
    }
   ],
   "source": [
    "print 'Loss: {}'.format(res[0])\n",
    "print 'Accuracy: {:%}'.format(res[1])"
   ]
  },
  {
   "cell_type": "markdown",
   "metadata": {},
   "source": [
    "One other way to look at this is to check where the errors occur by looking at what's known as the *confusion matrix*. The confusion matrix counts the number of predicted outputs with respect on how they should have been predicted. All the values on the diagonal (so where the predicted class is equal to the reference) are correct results. Any values outside of the diagonal are the errors, or confusions of one class with another. For example, you can see that 'g' is confused by 'k' (both same phonation place, but different voiceness), 'r' with 'er' (same thing, but the latter is a diphone), 't' with 'ch' (again same phonantion place, but sligthly different pronounciaction) and so on..."
   ]
  },
  {
   "cell_type": "code",
   "execution_count": 12,
   "metadata": {
    "collapsed": true
   },
   "outputs": [],
   "source": [
    "out = model.predict_classes(inputs[test_idx],batch_size=256,verbose=0)"
   ]
  },
  {
   "cell_type": "code",
   "execution_count": 33,
   "metadata": {
    "collapsed": false
   },
   "outputs": [
    {
     "name": "stdout",
     "output_type": "stream",
     "text": [
      "\n"
     ]
    },
    {
     "data": {
      "image/png": "[encoded data removed]",
      "text/plain": [
       "<matplotlib.figure.Figure at 0x7f777ea51650>"
      ]
     },
     "metadata": {},
     "output_type": "display_data"
    }
   ],
   "source": [
    "confusion=np.zeros((output_dim,output_dim))\n",
    "for s in range(len(out)):\n",
    "    confusion[out[s],output_dec[test_idx[s]]]+=1\n",
    "\n",
    "#normalize by class - because some classes occur much more often than others\n",
    "for c in range(output_dim):\n",
    "    confusion[c,:]/=np.sum(confusion[c,:])\n",
    "\n",
    "with open('../data/phones.list') as f:\n",
    "    ph=f.read().splitlines()\n",
    "    \n",
    "P.figure(figsize=(15,15))\n",
    "P.pcolormesh(confusion,cmap=P.cm.gray)\n",
    "P.xticks(np.arange(0,output_dim)+0.5)\n",
    "P.yticks(np.arange(0,output_dim)+0.5)\n",
    "ax=P.axes()\n",
    "ax.set_xticklabels(ph)\n",
    "ax.set_yticklabels(ph)\n",
    "print ''"
   ]
  },
  {
   "cell_type": "markdown",
   "metadata": {
    "collapsed": true
   },
   "source": [
    "## Further steps\n",
    "\n",
    "You can play around with the different parameters and network topologies. The results aren't going to be much better using this type of model. Using recurrent topologies (e.g. LSTM) can work better, as well as providing more data. Crucially, however, framewise phoneme classification is not the best benchmark to test and isn't the most useful. Further notebooks will go into other technuiques for getting closer to the best speech recognition can provide."
   ]
  }
 ],
 "metadata": {
  "kernelspec": {
   "display_name": "Python 2",
   "language": "python",
   "name": "python2"
  },
  "language_info": {
   "codemirror_mode": {
    "name": "ipython",
    "version": 2
   },
   "file_extension": ".py",
   "mimetype": "text/x-python",
   "name": "python",
   "nbconvert_exporter": "python",
   "pygments_lexer": "ipython2",
   "version": "2.7.9"
  }
 },
 "nbformat": 4,
 "nbformat_minor": 0
}
