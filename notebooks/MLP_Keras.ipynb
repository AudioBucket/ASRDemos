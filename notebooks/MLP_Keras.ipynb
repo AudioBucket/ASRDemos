{
 "cells": [
  {
   "cell_type": "markdown",
   "metadata": {},
   "source": [
    "# Simple MLP demo\n",
    "\n",
    "This notebook demonstrates how to create a simple MLP for recognizing phonemes from speech. To do this, we will use a training dataset prepared in a different notebook titled *VoxforgeDataPrep*, so take a look at that before you start working on this demo.\n",
    "\n",
    "In this example, we will use the excellent [Keras](http://keras.io/) library which depends upon either Theano or TensorFlow, so you will need to install those as well. Just follow the isntructions on the Keras website - it is recommended to use the freshest, Github versions of both Keras and Theano.\n",
    "\n",
    "I also have the convinence of using the GPU for the actual computation. This code will work just as well on the CPU, but it's much faster on a good GPU.\n",
    "\n",
    "We start by importing numpy (for loading and working with the data) and the neccessary Keras classes. Feel free to add more here if you wish to experiment with them."
   ]
  },
  {
   "cell_type": "code",
   "execution_count": 1,
   "metadata": {
    "collapsed": false
   },
   "outputs": [
    {
     "name": "stdout",
     "output_type": "stream",
     "text": [
      "Using Theano backend.\n"
     ]
    },
    {
     "name": "stderr",
     "output_type": "stream",
     "text": [
      "Using gpu device 0: GeForce GTX TITAN (CNMeM is enabled)\n"
     ]
    }
   ],
   "source": [
    "import numpy as np\n",
    "from keras.models import Sequential\n",
    "from keras.layers.core import Dense, Activation\n",
    "from keras.optimizers import SGD, Adadelta\n",
    "from keras.callbacks import RemoteMonitor"
   ]
  },
  {
   "cell_type": "markdown",
   "metadata": {},
   "source": [
    "First let's load our data. In the *VoxforgeDataPrep* notebook, we created to arrays - inputs and outputs. The input nas the dimensions (num_samples,num_features) and the output is simply 1D vector of ints of length (num_samples). In this step, we split the training data into actual training (90%) and dev (10%) and merge that with the test data. Finally we save the indices for all the sets (instead of actual arrays)."
   ]
  },
  {
   "cell_type": "code",
   "execution_count": 2,
   "metadata": {
    "collapsed": false
   },
   "outputs": [],
   "source": [
    "import sys\n",
    "\n",
    "sys.path.append('../python')\n",
    "\n",
    "from data import Corpus\n",
    "\n",
    "train=Corpus('../data/mfcc_train_small.hdf5',load_normalized=True)\n",
    "test=Corpus('../data/mfcc_test.hdf5',load_normalized=True)\n",
    "\n",
    "g=train.get()\n",
    "\n",
    "lens=[]\n",
    "for utt in g[1]:\n",
    "    lens.append(utt.shape[0])\n",
    "lens=np.array(lens)\n",
    "\n",
    "p=int(len(lens)*0.9)\n",
    "train_split=np.sum(lens[0:p])\n",
    "dev_split=np.sum(lens)\n",
    "\n",
    "tr_in=np.vstack(g[0])\n",
    "tr_out=np.concatenate(g[1])\n",
    "\n",
    "g=test.get()\n",
    "tst_in=np.vstack(g[0])\n",
    "tst_out=np.concatenate(g[1])\n",
    "\n",
    "train.close()\n",
    "test.close()\n",
    "\n",
    "inputs=np.vstack((tr_in,tst_in))\n",
    "output_dec=np.concatenate((tr_out,tst_out))\n",
    "\n",
    "num=inputs.shape[0]\n",
    "\n",
    "train_idx=range(0,train_split)\n",
    "dev_idx=range(train_split,dev_split)\n",
    "test_idx=range(dev_split,num)"
   ]
  },
  {
   "cell_type": "markdown",
   "metadata": {},
   "source": [
    "Next we define some constants for our program. Input and output dimensions can be inferred from the data, but the hidden layer size has to be defined manually.\n",
    "\n",
    "We also redefine our outputs as a 1-of-N matrix instead of an int vector. The old outputs were simply a list of integers (from 0 to 39) defining the phoneme (as listed in ../data/phones.list) class for each sample given at input. The new matrix has dimensions (num_samples, num_classes) and is mostly 0 with a single 1 put in place corresponding to the class index in the old output vector."
   ]
  },
  {
   "cell_type": "code",
   "execution_count": 3,
   "metadata": {
    "collapsed": false
   },
   "outputs": [],
   "source": [
    "input_dim=inputs.shape[1]\n",
    "output_dim=np.max(output_dec)+1\n",
    "\n",
    "hidden_num=256\n",
    "\n",
    "batch_size=256\n",
    "epoch_num=100\n",
    "\n",
    "outputs=np.zeros((num,output_dim))\n",
    "outputs[range(0,num),output_dec]=1"
   ]
  },
  {
   "cell_type": "code",
   "execution_count": 4,
   "metadata": {
    "collapsed": false
   },
   "outputs": [
    {
     "name": "stdout",
     "output_type": "stream",
     "text": [
      "Samples num: 1595108\n",
      "   of which: 1294050 in train, 144379 in dev and 156679 in test\n",
      "Input size: 39\n",
      "Output size (number of classes): 40\n"
     ]
    }
   ],
   "source": [
    "print 'Samples num: {}'.format(num)\n",
    "print '   of which: {} in train, {} in dev and {} in test'.format(len(train_idx),len(dev_idx),len(test_idx))\n",
    "print 'Input size: {}'.format(input_dim)\n",
    "print 'Output size (number of classes): {}'.format(output_dim)"
   ]
  },
  {
   "cell_type": "markdown",
   "metadata": {},
   "source": [
    "## Model definition\n",
    "\n",
    "Here we define our model using the Keras interface. There are two main model types in Keras: sequential and graph. Sequential is much more common and easy to use, so we start with that.\n",
    "\n",
    "Next we define the MLP topology. Here we have 3 layers: input, hidden and output. They are interconnected with two sets of *Dense* weight connections and a layer of activation functions after these weights. When defining the *Dense* weight layers, we need to provide the size: input and output are neccessary only for the first layer, subsequent layers use the output size of the previous layer as their input size.\n",
    "\n",
    "We also define the type of optimizer and loss function we want to use. There are a few optimizers to choose from in the library and they are all interchangable. The differences between them are not too large in this example (feel free to experiment). The loss function chosen here is the cross-entropy function. Another option would be the simpler MSE (mean square error). Again, there doesn't seem to be much of a difference, but cross-entropy does seem like performing a bit better overall."
   ]
  },
  {
   "cell_type": "code",
   "execution_count": 5,
   "metadata": {
    "collapsed": false
   },
   "outputs": [],
   "source": [
    "model = Sequential()\n",
    "\n",
    "model.add(Dense(input_dim=input_dim,output_dim=hidden_num))\n",
    "model.add(Activation('sigmoid'))\n",
    "model.add(Dense(output_dim=output_dim))\n",
    "model.add(Activation('softmax'))\n",
    "\n",
    "#optimizer = SGD(lr=0.01, momentum=0.9, nesterov=True)\n",
    "optimizer= Adadelta()\n",
    "loss='categorical_crossentropy'"
   ]
  },
  {
   "cell_type": "markdown",
   "metadata": {},
   "source": [
    "After defining the model and all its parameters, we can compile it. This literally means compiling, because the model is converted into C++ code in the background and compiled with lots of optimizations to work as efficiently as possible. The process can take a while, but is worth the added speed in training."
   ]
  },
  {
   "cell_type": "code",
   "execution_count": 6,
   "metadata": {
    "collapsed": false
   },
   "outputs": [
    {
     "name": "stdout",
     "output_type": "stream",
     "text": [
      "--------------------------------------------------------------------------------\n",
      "Initial input shape: (None, 39)\n",
      "--------------------------------------------------------------------------------\n",
      "Layer (name)                  Output Shape                  Param #             \n",
      "--------------------------------------------------------------------------------\n",
      "Dense (dense)                 (None, 256)                   10240               \n",
      "Activation (activation)       (None, 256)                   0                   \n",
      "Dense (dense)                 (None, 40)                    10280               \n",
      "Activation (activation)       (None, 40)                    0                   \n",
      "--------------------------------------------------------------------------------\n",
      "Total params: 20520\n",
      "--------------------------------------------------------------------------------\n",
      "None\n"
     ]
    }
   ],
   "source": [
    "model.compile(loss=loss, optimizer=optimizer)\n",
    "\n",
    "print model.summary()"
   ]
  },
  {
   "cell_type": "markdown",
   "metadata": {},
   "source": [
    "We can also try and visualize the model using the builtin Dot painter:"
   ]
  },
  {
   "cell_type": "code",
   "execution_count": 7,
   "metadata": {
    "collapsed": false
   },
   "outputs": [
    {
     "data": {
      "image/svg+xml": [
       "<svg height=\"304pt\" viewBox=\"0.00 0.00 324.00 304.00\" width=\"324pt\" xmlns=\"http://www.w3.org/2000/svg\" xmlns:xlink=\"http://www.w3.org/1999/xlink\">\n",
       "<g class=\"graph\" id=\"graph0\" transform=\"scale(1 1) rotate(0) translate(4 300)\">\n",
       "<title>G</title>\n",
       "<polygon fill=\"white\" points=\"-4,4 -4,-300 320,-300 320,4 -4,4\" stroke=\"none\"/>\n",
       "<!-- layer0 -->\n",
       "<g class=\"node\" id=\"node1\"><title>layer0</title>\n",
       "<polygon fill=\"none\" points=\"3.5,-0.5 3.5,-46.5 312.5,-46.5 312.5,-0.5 3.5,-0.5\" stroke=\"black\"/>\n",
       "<text font-family=\"Times,serif\" font-size=\"14.00\" text-anchor=\"middle\" x=\"92.5\" y=\"-19.8\">(keras.layers.core.Activation)</text>\n",
       "<polyline fill=\"none\" points=\"181.5,-0.5 181.5,-46.5 \" stroke=\"black\"/>\n",
       "<text font-family=\"Times,serif\" font-size=\"14.00\" text-anchor=\"middle\" x=\"209\" y=\"-31.3\">input:</text>\n",
       "<polyline fill=\"none\" points=\"181.5,-23.5 236.5,-23.5 \" stroke=\"black\"/>\n",
       "<text font-family=\"Times,serif\" font-size=\"14.00\" text-anchor=\"middle\" x=\"209\" y=\"-8.3\">output:</text>\n",
       "<polyline fill=\"none\" points=\"236.5,-0.5 236.5,-46.5 \" stroke=\"black\"/>\n",
       "<text font-family=\"Times,serif\" font-size=\"14.00\" text-anchor=\"middle\" x=\"274.5\" y=\"-31.3\">(None, 40)</text>\n",
       "<polyline fill=\"none\" points=\"236.5,-23.5 312.5,-23.5 \" stroke=\"black\"/>\n",
       "<text font-family=\"Times,serif\" font-size=\"14.00\" text-anchor=\"middle\" x=\"274.5\" y=\"-8.3\">(None, 40)</text>\n",
       "</g>\n",
       "<!-- layer1 -->\n",
       "<g class=\"node\" id=\"node2\"><title>layer1</title>\n",
       "<polygon fill=\"none\" points=\"11.5,-83.5 11.5,-129.5 304.5,-129.5 304.5,-83.5 11.5,-83.5\" stroke=\"black\"/>\n",
       "<text font-family=\"Times,serif\" font-size=\"14.00\" text-anchor=\"middle\" x=\"89\" y=\"-102.8\">(keras.layers.core.Dense)</text>\n",
       "<polyline fill=\"none\" points=\"166.5,-83.5 166.5,-129.5 \" stroke=\"black\"/>\n",
       "<text font-family=\"Times,serif\" font-size=\"14.00\" text-anchor=\"middle\" x=\"194\" y=\"-114.3\">input:</text>\n",
       "<polyline fill=\"none\" points=\"166.5,-106.5 221.5,-106.5 \" stroke=\"black\"/>\n",
       "<text font-family=\"Times,serif\" font-size=\"14.00\" text-anchor=\"middle\" x=\"194\" y=\"-91.3\">output:</text>\n",
       "<polyline fill=\"none\" points=\"221.5,-83.5 221.5,-129.5 \" stroke=\"black\"/>\n",
       "<text font-family=\"Times,serif\" font-size=\"14.00\" text-anchor=\"middle\" x=\"263\" y=\"-114.3\">(None, 256)</text>\n",
       "<polyline fill=\"none\" points=\"221.5,-106.5 304.5,-106.5 \" stroke=\"black\"/>\n",
       "<text font-family=\"Times,serif\" font-size=\"14.00\" text-anchor=\"middle\" x=\"263\" y=\"-91.3\">(None, 40)</text>\n",
       "</g>\n",
       "<!-- layer1&#45;&gt;layer0 -->\n",
       "<g class=\"edge\" id=\"edge1\"><title>layer1-&gt;layer0</title>\n",
       "<path d=\"M158,-83.3664C158,-75.1516 158,-65.6579 158,-56.7252\" fill=\"none\" stroke=\"black\"/>\n",
       "<polygon fill=\"black\" points=\"161.5,-56.6068 158,-46.6068 154.5,-56.6069 161.5,-56.6068\" stroke=\"black\"/>\n",
       "</g>\n",
       "<!-- layer2 -->\n",
       "<g class=\"node\" id=\"node3\"><title>layer2</title>\n",
       "<polygon fill=\"none\" points=\"-2.84217e-14,-166.5 -2.84217e-14,-212.5 316,-212.5 316,-166.5 -2.84217e-14,-166.5\" stroke=\"black\"/>\n",
       "<text font-family=\"Times,serif\" font-size=\"14.00\" text-anchor=\"middle\" x=\"89\" y=\"-185.8\">(keras.layers.core.Activation)</text>\n",
       "<polyline fill=\"none\" points=\"178,-166.5 178,-212.5 \" stroke=\"black\"/>\n",
       "<text font-family=\"Times,serif\" font-size=\"14.00\" text-anchor=\"middle\" x=\"205.5\" y=\"-197.3\">input:</text>\n",
       "<polyline fill=\"none\" points=\"178,-189.5 233,-189.5 \" stroke=\"black\"/>\n",
       "<text font-family=\"Times,serif\" font-size=\"14.00\" text-anchor=\"middle\" x=\"205.5\" y=\"-174.3\">output:</text>\n",
       "<polyline fill=\"none\" points=\"233,-166.5 233,-212.5 \" stroke=\"black\"/>\n",
       "<text font-family=\"Times,serif\" font-size=\"14.00\" text-anchor=\"middle\" x=\"274.5\" y=\"-197.3\">(None, 256)</text>\n",
       "<polyline fill=\"none\" points=\"233,-189.5 316,-189.5 \" stroke=\"black\"/>\n",
       "<text font-family=\"Times,serif\" font-size=\"14.00\" text-anchor=\"middle\" x=\"274.5\" y=\"-174.3\">(None, 256)</text>\n",
       "</g>\n",
       "<!-- layer2&#45;&gt;layer1 -->\n",
       "<g class=\"edge\" id=\"edge2\"><title>layer2-&gt;layer1</title>\n",
       "<path d=\"M158,-166.366C158,-158.152 158,-148.658 158,-139.725\" fill=\"none\" stroke=\"black\"/>\n",
       "<polygon fill=\"black\" points=\"161.5,-139.607 158,-129.607 154.5,-139.607 161.5,-139.607\" stroke=\"black\"/>\n",
       "</g>\n",
       "<!-- layer3 -->\n",
       "<g class=\"node\" id=\"node4\"><title>layer3</title>\n",
       "<polygon fill=\"none\" points=\"11.5,-249.5 11.5,-295.5 304.5,-295.5 304.5,-249.5 11.5,-249.5\" stroke=\"black\"/>\n",
       "<text font-family=\"Times,serif\" font-size=\"14.00\" text-anchor=\"middle\" x=\"89\" y=\"-268.8\">(keras.layers.core.Dense)</text>\n",
       "<polyline fill=\"none\" points=\"166.5,-249.5 166.5,-295.5 \" stroke=\"black\"/>\n",
       "<text font-family=\"Times,serif\" font-size=\"14.00\" text-anchor=\"middle\" x=\"194\" y=\"-280.3\">input:</text>\n",
       "<polyline fill=\"none\" points=\"166.5,-272.5 221.5,-272.5 \" stroke=\"black\"/>\n",
       "<text font-family=\"Times,serif\" font-size=\"14.00\" text-anchor=\"middle\" x=\"194\" y=\"-257.3\">output:</text>\n",
       "<polyline fill=\"none\" points=\"221.5,-249.5 221.5,-295.5 \" stroke=\"black\"/>\n",
       "<text font-family=\"Times,serif\" font-size=\"14.00\" text-anchor=\"middle\" x=\"263\" y=\"-280.3\">(None, 39)</text>\n",
       "<polyline fill=\"none\" points=\"221.5,-272.5 304.5,-272.5 \" stroke=\"black\"/>\n",
       "<text font-family=\"Times,serif\" font-size=\"14.00\" text-anchor=\"middle\" x=\"263\" y=\"-257.3\">(None, 256)</text>\n",
       "</g>\n",
       "<!-- layer3&#45;&gt;layer2 -->\n",
       "<g class=\"edge\" id=\"edge3\"><title>layer3-&gt;layer2</title>\n",
       "<path d=\"M158,-249.366C158,-241.152 158,-231.658 158,-222.725\" fill=\"none\" stroke=\"black\"/>\n",
       "<polygon fill=\"black\" points=\"161.5,-222.607 158,-212.607 154.5,-222.607 161.5,-222.607\" stroke=\"black\"/>\n",
       "</g>\n",
       "</g>\n",
       "</svg>"
      ],
      "text/plain": [
       "<IPython.core.display.SVG object>"
      ]
     },
     "execution_count": 7,
     "metadata": {},
     "output_type": "execute_result"
    }
   ],
   "source": [
    "from keras.utils import visualize_util\n",
    "from IPython.display import SVG\n",
    "\n",
    "SVG(visualize_util.to_graph(model,show_shape=True).create(prog='dot', format='svg'))"
   ]
  },
  {
   "cell_type": "markdown",
   "metadata": {},
   "source": [
    "Finally, we can start training the model. We provide the training function both training and validation data and define a few parameters: batch size and number of training epochs. Changing the batch size can affect both the training speed and final accuracy. This value is also closely related to the number of epochs. Generally, you want to run the training for as many epochs as needed for the model to converge on some value. The value of 100 should be fine for a quick comparison but up to 1k may be necessary to be abolutely sure (especially when testing larger models)."
   ]
  },
  {
   "cell_type": "code",
   "execution_count": 8,
   "metadata": {
    "collapsed": false
   },
   "outputs": [],
   "source": [
    "val=(inputs[dev_idx],outputs[dev_idx])\n",
    "\n",
    "hist=model.fit(inputs[train_idx], outputs[train_idx], batch_size=batch_size, nb_epoch=epoch_num, verbose=0, validation_data=val)"
   ]
  },
  {
   "cell_type": "markdown",
   "metadata": {},
   "source": [
    "The training method returns an object that contains the trained model parameters and the training history:"
   ]
  },
  {
   "cell_type": "code",
   "execution_count": 9,
   "metadata": {
    "collapsed": false
   },
   "outputs": [
    {
     "data": {
      "text/plain": [
       "[<matplotlib.lines.Line2D at 0x7f9b93145c90>]"
      ]
     },
     "execution_count": 9,
     "metadata": {},
     "output_type": "execute_result"
    },
    {
     "data": {
      "image/png": "[encoded data removed]",
      "text/plain": [
       "<matplotlib.figure.Figure at 0x7f9b9318d210>"
      ]
     },
     "metadata": {},
     "output_type": "display_data"
    }
   ],
   "source": [
    "import matplotlib.pyplot as P\n",
    "%matplotlib inline\n",
    "\n",
    "P.plot(hist.history['loss'])"
   ]
  },
  {
   "cell_type": "markdown",
   "metadata": {},
   "source": [
    "You can get better graphs and more data if you overload the training callback method, which will provide you with the model parameters after each epoch during training.\n",
    "\n",
    "After the model is trained, we can easily test it using the evaluate method. The show_accuracy argument is required to compute the accuracy of the decision variable. The returned result has a 2-element list, where the first value is the loss of the model on the test data and the second is the accuracy:"
   ]
  },
  {
   "cell_type": "code",
   "execution_count": 10,
   "metadata": {
    "collapsed": true
   },
   "outputs": [],
   "source": [
    "res=model.evaluate(inputs[test_idx],outputs[test_idx],batch_size=batch_size,show_accuracy=True,verbose=0)"
   ]
  },
  {
   "cell_type": "code",
   "execution_count": 11,
   "metadata": {
    "collapsed": false
   },
   "outputs": [
    {
     "name": "stdout",
     "output_type": "stream",
     "text": [
      "Loss: 1.32876277522\n",
      "Accuracy: 61.166461%\n"
     ]
    }
   ],
   "source": [
    "print 'Loss: {}'.format(res[0])\n",
    "print 'Accuracy: {:%}'.format(res[1])"
   ]
  },
  {
   "cell_type": "markdown",
   "metadata": {},
   "source": [
    "One other way to look at this is to check where the errors occur by looking at what's known as the *confusion matrix*. The confusion matrix counts the number of predicted outputs with respect on how they should have been predicted. All the values on the diagonal (so where the predicted class is equal to the reference) are correct results. Any values outside of the diagonal are the errors, or confusions of one class with another. For example, you can see that 'g' is confused by 'k' (both same phonation place, but different voiceness), 'r' with 'er' (same thing, but the latter is a diphone), 't' with 'ch' (again same phonantion place, but sligthly different pronounciaction) and so on..."
   ]
  },
  {
   "cell_type": "code",
   "execution_count": 12,
   "metadata": {
    "collapsed": true
   },
   "outputs": [],
   "source": [
    "out = model.predict_classes(inputs[test_idx],batch_size=256,verbose=0)"
   ]
  },
  {
   "cell_type": "code",
   "execution_count": 13,
   "metadata": {
    "collapsed": false
   },
   "outputs": [
    {
     "name": "stdout",
     "output_type": "stream",
     "text": [
      "\n"
     ]
    },
    {
     "data": {
      "image/png": "[encoded data removed]",
      "text/plain": [
       "<matplotlib.figure.Figure at 0x7f9b8d043d50>"
      ]
     },
     "metadata": {},
     "output_type": "display_data"
    }
   ],
   "source": [
    "confusion=np.zeros((output_dim,output_dim))\n",
    "for s in range(len(out)):\n",
    "    confusion[out[s],output_dec[test_idx[s]]]+=1\n",
    "\n",
    "#normalize by class - because some classes occur much more often than others\n",
    "for c in range(output_dim):\n",
    "    confusion[c,:]/=np.sum(confusion[c,:])\n",
    "\n",
    "with open('../data/phones.list') as f:\n",
    "    ph=f.read().splitlines()\n",
    "    \n",
    "P.figure(figsize=(15,15))\n",
    "P.pcolormesh(confusion,cmap=P.cm.gray)\n",
    "P.xticks(np.arange(0,output_dim)+0.5)\n",
    "P.yticks(np.arange(0,output_dim)+0.5)\n",
    "ax=P.axes()\n",
    "ax.set_xticklabels(ph)\n",
    "ax.set_yticklabels(ph)\n",
    "print ''"
   ]
  },
  {
   "cell_type": "markdown",
   "metadata": {
    "collapsed": true
   },
   "source": [
    "## Further steps\n",
    "\n",
    "You can play around with the different parameters and network topologies. The results aren't going to be much better using this type of model. Using recurrent topologies (e.g. LSTM) can work better, as well as providing more data. Crucially, however, framewise phoneme classification is not the best benchmark to test and isn't the most useful. Further notebooks will go into other technuiques for getting closer to the best speech recognition can provide."
   ]
  }
 ],
 "metadata": {
  "kernelspec": {
   "display_name": "Python 2",
   "language": "python",
   "name": "python2"
  },
  "language_info": {
   "codemirror_mode": {
    "name": "ipython",
    "version": 2
   },
   "file_extension": ".py",
   "mimetype": "text/x-python",
   "name": "python",
   "nbconvert_exporter": "python",
   "pygments_lexer": "ipython2",
   "version": "2.7.9"
  }
 },
 "nbformat": 4,
 "nbformat_minor": 0
}
