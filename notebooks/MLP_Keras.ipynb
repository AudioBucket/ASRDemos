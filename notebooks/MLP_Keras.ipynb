{
 "cells": [
  {
   "cell_type": "markdown",
   "metadata": {},
   "source": [
    "# Simple MLP demo\n",
    "\n",
    "This notebook demonstrates how to create a simple MLP for recognizing phonemes from speech. To do this, we will use a training dataset prepared in a different notebook titled *VoxforgeDataPrep*, so take a look at that before you start working on this demo.\n",
    "\n",
    "In this example, we will use the excellent [Keras](http://keras.io/) library which depends upon either Theano or TensorFlow, so you will need to install those as well. Just follow the isntructions on the Keras website - it is recommended to use the freshest, Github versions of both Keras and Theano.\n",
    "\n",
    "I also have the convinence of using the GPU for the actual computation. This code will work just as well on the CPU, but it's much faster on a good GPU.\n",
    "\n",
    "We start by importing numpy (for loading and working with the data) and the neccessary Keras classes. Feel free to add more here if you wish to experiment with them."
   ]
  },
  {
   "cell_type": "code",
   "execution_count": 1,
   "metadata": {
    "collapsed": false
   },
   "outputs": [
    {
     "name": "stdout",
     "output_type": "stream",
     "text": [
      "Using Theano backend.\n",
      "Couldn't import dot_parser, loading of dot files will not be possible.\n"
     ]
    },
    {
     "name": "stderr",
     "output_type": "stream",
     "text": [
      "Using gpu device 0: GeForce GTX TITAN (CNMeM is enabled)\n"
     ]
    }
   ],
   "source": [
    "import numpy as np\n",
    "from keras.models import Sequential\n",
    "from keras.layers.core import Dense, Activation\n",
    "from keras.optimizers import SGD, Adadelta"
   ]
  },
  {
   "cell_type": "markdown",
   "metadata": {},
   "source": [
    "First let's load our data. In the *VoxforgeDataPrep* notebook, we created to arrays - inputs and outputs. The input nas the dimensions (num_samples,num_features) and the output is simply 1D vector of ints of length (num_samples). In this step, we split the data into training (80%), dev (10%) and test (10%) portions and save the indices referencing these parts."
   ]
  },
  {
   "cell_type": "code",
   "execution_count": 2,
   "metadata": {
    "collapsed": false
   },
   "outputs": [],
   "source": [
    "inputs=np.load('../data/mfcc_in_norm.npy')\n",
    "output_dec=np.load('../data/mfcc_out.npy')\n",
    "\n",
    "num=inputs.shape[0]\n",
    "\n",
    "p1=int(num*0.8)\n",
    "p2=int(num*0.9)\n",
    "\n",
    "train_idx=range(0,p1)\n",
    "dev_idx=range(p1,p2)\n",
    "test_idx=range(p2,num)"
   ]
  },
  {
   "cell_type": "markdown",
   "metadata": {},
   "source": [
    "To improve the context sensitivity of the model, we take 7 samples (3 before and 3 after) from the input and provide them to the network all at once. This increases our input size from 39 to 273 elements, which is still managable."
   ]
  },
  {
   "cell_type": "code",
   "execution_count": 3,
   "metadata": {
    "collapsed": false
   },
   "outputs": [],
   "source": [
    "def expandTimeWindow(data, time_before, time_after):\n",
    "\n",
    "    newdata = []\n",
    "\n",
    "    last_win = data.shape[0] - 1\n",
    "\n",
    "    for w in range(data.shape[0]):\n",
    "\n",
    "        newwin = []\n",
    "        for x in range(w - time_before, w + time_after + 1):\n",
    "            w = x\n",
    "            if(w < 0):\n",
    "                w = 0\n",
    "            if(w > last_win):\n",
    "                w = last_win\n",
    "            newwin.append(data[w])\n",
    "        newdata.append(np.concatenate(newwin))\n",
    "\n",
    "    return np.vstack(newdata)\n",
    "\n",
    "inputs=expandTimeWindow(inputs,3,3)"
   ]
  },
  {
   "cell_type": "markdown",
   "metadata": {},
   "source": [
    "Next we define some constants for our program. Input and output dimensions can be inferred from the data, but the hidden layer size has to be defined manually.\n",
    "\n",
    "We also redefine our outputs as a 1-of-N matrix instead of an int vector. The old outputs were simply a list of integers (from 0 to 39) defining the phoneme (as listed in ../data/phones.list) class for each sample given at input. The new matrix has dimensions (num_samples, num_classes) and is mostly 0 with a single 1 put in place corresponding to the class index in the old output vector."
   ]
  },
  {
   "cell_type": "code",
   "execution_count": 4,
   "metadata": {
    "collapsed": false
   },
   "outputs": [],
   "source": [
    "input_dim=inputs.shape[1]\n",
    "output_dim=np.max(output_dec)+1\n",
    "\n",
    "hidden_num=256\n",
    "\n",
    "outputs=np.zeros((num,output_dim))\n",
    "outputs[range(0,num),output_dec]=1"
   ]
  },
  {
   "cell_type": "code",
   "execution_count": 5,
   "metadata": {
    "collapsed": false
   },
   "outputs": [
    {
     "name": "stdout",
     "output_type": "stream",
     "text": [
      "Samples num: 1438610\n",
      "Input size: 273\n",
      "Output size (number of classes): 40\n"
     ]
    }
   ],
   "source": [
    "print 'Samples num: {}'.format(num)\n",
    "print 'Input size: {}'.format(input_dim)\n",
    "print 'Output size (number of classes): {}'.format(output_dim)"
   ]
  },
  {
   "cell_type": "markdown",
   "metadata": {},
   "source": [
    "## Model definition\n",
    "\n",
    "Here we define our model using the Keras interface. There are two main model types in Keras: sequential and graph. Sequential is much more common and easy to use, so we start with that.\n",
    "\n",
    "Next we define the MLP topology. Here we have 3 layers: input, hidden and output. They are interconnected with two sets of *Dense* weight connections and a layer of activation functions after these weights. When defining the *Dense* weight layers, we need to provide the size: input and output are neccessary only for the first layer, subsequent layers use the output size of the previous layer as their input size.\n",
    "\n",
    "We also define the type of optimizer and loss function we want to use. There are a few optimizers to choose from in the library and they are all interchangable. The differences between them are not too large in this example (feel free to experiment). The loss function chosen here is the cross-entropy function. Another option would be the simpler MSE (mean square error). Again, there doesn't seem to be much of a difference, but cross-entropy does seem like performing a bit better overall."
   ]
  },
  {
   "cell_type": "code",
   "execution_count": 6,
   "metadata": {
    "collapsed": false
   },
   "outputs": [],
   "source": [
    "model = Sequential()\n",
    "\n",
    "model.add(Dense(input_dim=input_dim,output_dim=hidden_num))\n",
    "model.add(Activation('sigmoid'))\n",
    "model.add(Dense(output_dim=output_dim))\n",
    "model.add(Activation('softmax'))\n",
    "\n",
    "#optimizer = SGD(lr=0.01, momentum=0.9, nesterov=True)\n",
    "optimizer= Adadelta()\n",
    "loss='categorical_crossentropy'"
   ]
  },
  {
   "cell_type": "markdown",
   "metadata": {},
   "source": [
    "After defining the model and all its parameters, we can compile it. This literally means compiling, because the model is converted into C++ code in the background and compiled with lots of optimizations to work as efficiently as possible. The process can take a while, but is worth the added speed in training."
   ]
  },
  {
   "cell_type": "code",
   "execution_count": 7,
   "metadata": {
    "collapsed": false
   },
   "outputs": [
    {
     "name": "stdout",
     "output_type": "stream",
     "text": [
      "--------------------------------------------------------------------------------\n",
      "Initial input shape: (None, 273)\n",
      "--------------------------------------------------------------------------------\n",
      "Layer (name)                  Output Shape                  Param #             \n",
      "--------------------------------------------------------------------------------\n",
      "Dense (dense)                 (None, 256)                   70144               \n",
      "Activation (activation)       (None, 256)                   0                   \n",
      "Dense (dense)                 (None, 40)                    10280               \n",
      "Activation (activation)       (None, 40)                    0                   \n",
      "--------------------------------------------------------------------------------\n",
      "Total params: 80424\n",
      "--------------------------------------------------------------------------------\n",
      "None\n"
     ]
    }
   ],
   "source": [
    "model.compile(loss=loss, optimizer=optimizer)\n",
    "\n",
    "print model.summary()"
   ]
  },
  {
   "cell_type": "markdown",
   "metadata": {},
   "source": [
    "Finally, we can start training the model. We provide the training function both training and validation data and define a few parameters: batch size and number of training epochs. Changing the batch size can affect both the training speed and final accuracy. This value is also closely related to the number of epochs. Generally, you want to run the training for as many epochs as needed for the model to converge on some value. The value of 100 should be fine for a quick comparison but up to 1k may be necessary to be abolutely sure (especially when testing larger models).\n",
    "\n",
    "Setting the verbose value to 2 makes more sense in notebooks, but leaving it at one creates a nice progress bar if you run the program from the console."
   ]
  },
  {
   "cell_type": "code",
   "execution_count": 8,
   "metadata": {
    "collapsed": false
   },
   "outputs": [
    {
     "name": "stdout",
     "output_type": "stream",
     "text": [
      "Train on 1150888 samples, validate on 143861 samples\n",
      "Epoch 1/100\n",
      "5s - loss: 1.5455 - val_loss: 1.3904\n",
      "Epoch 2/100\n",
      "5s - loss: 1.2947 - val_loss: 1.3195\n",
      "Epoch 3/100\n",
      "5s - loss: 1.2158 - val_loss: 1.2572\n",
      "Epoch 4/100\n",
      "5s - loss: 1.1733 - val_loss: 1.2128\n",
      "Epoch 5/100\n",
      "5s - loss: 1.1447 - val_loss: 1.1974\n",
      "Epoch 6/100\n",
      "5s - loss: 1.1246 - val_loss: 1.2180\n",
      "Epoch 7/100\n",
      "5s - loss: 1.1077 - val_loss: 1.1735\n",
      "Epoch 8/100\n",
      "5s - loss: 1.0946 - val_loss: 1.1706\n",
      "Epoch 9/100\n",
      "5s - loss: 1.0841 - val_loss: 1.1900\n",
      "Epoch 10/100\n",
      "5s - loss: 1.0744 - val_loss: 1.1543\n",
      "Epoch 11/100\n",
      "5s - loss: 1.0664 - val_loss: 1.1497\n",
      "Epoch 12/100\n",
      "5s - loss: 1.0596 - val_loss: 1.1416\n",
      "Epoch 13/100\n",
      "5s - loss: 1.0534 - val_loss: 1.1427\n",
      "Epoch 14/100\n",
      "5s - loss: 1.0479 - val_loss: 1.1404\n",
      "Epoch 15/100\n",
      "5s - loss: 1.0434 - val_loss: 1.1428\n",
      "Epoch 16/100\n",
      "5s - loss: 1.0392 - val_loss: 1.1439\n",
      "Epoch 17/100\n",
      "5s - loss: 1.0347 - val_loss: 1.1676\n",
      "Epoch 18/100\n",
      "5s - loss: 1.0311 - val_loss: 1.1339\n",
      "Epoch 19/100\n",
      "5s - loss: 1.0278 - val_loss: 1.1354\n",
      "Epoch 20/100\n",
      "5s - loss: 1.0250 - val_loss: 1.1233\n",
      "Epoch 21/100\n",
      "5s - loss: 1.0219 - val_loss: 1.1335\n",
      "Epoch 22/100\n",
      "5s - loss: 1.0194 - val_loss: 1.1260\n",
      "Epoch 23/100\n",
      "5s - loss: 1.0165 - val_loss: 1.1176\n",
      "Epoch 24/100\n",
      "5s - loss: 1.0142 - val_loss: 1.1235\n",
      "Epoch 25/100\n",
      "5s - loss: 1.0125 - val_loss: 1.1169\n",
      "Epoch 26/100\n",
      "5s - loss: 1.0100 - val_loss: 1.1495\n",
      "Epoch 27/100\n",
      "5s - loss: 1.0083 - val_loss: 1.1245\n",
      "Epoch 28/100\n",
      "5s - loss: 1.0065 - val_loss: 1.1122\n",
      "Epoch 29/100\n",
      "5s - loss: 1.0045 - val_loss: 1.1331\n",
      "Epoch 30/100\n",
      "5s - loss: 1.0028 - val_loss: 1.1141\n",
      "Epoch 31/100\n",
      "5s - loss: 1.0014 - val_loss: 1.1058\n",
      "Epoch 32/100\n",
      "5s - loss: 1.0000 - val_loss: 1.1157\n",
      "Epoch 33/100\n",
      "5s - loss: 0.9985 - val_loss: 1.1087\n",
      "Epoch 34/100\n",
      "5s - loss: 0.9974 - val_loss: 1.1057\n",
      "Epoch 35/100\n",
      "5s - loss: 0.9960 - val_loss: 1.1174\n",
      "Epoch 36/100\n",
      "5s - loss: 0.9947 - val_loss: 1.1125\n",
      "Epoch 37/100\n",
      "5s - loss: 0.9934 - val_loss: 1.1092\n",
      "Epoch 38/100\n",
      "5s - loss: 0.9926 - val_loss: 1.1312\n",
      "Epoch 39/100\n",
      "5s - loss: 0.9913 - val_loss: 1.1229\n",
      "Epoch 40/100\n",
      "5s - loss: 0.9900 - val_loss: 1.1165\n",
      "Epoch 41/100\n",
      "5s - loss: 0.9891 - val_loss: 1.1025\n",
      "Epoch 42/100\n",
      "5s - loss: 0.9882 - val_loss: 1.1143\n",
      "Epoch 43/100\n",
      "5s - loss: 0.9873 - val_loss: 1.1081\n",
      "Epoch 44/100\n",
      "5s - loss: 0.9863 - val_loss: 1.1112\n",
      "Epoch 45/100\n",
      "5s - loss: 0.9854 - val_loss: 1.1095\n",
      "Epoch 46/100\n",
      "5s - loss: 0.9844 - val_loss: 1.0965\n",
      "Epoch 47/100\n",
      "5s - loss: 0.9837 - val_loss: 1.1042\n",
      "Epoch 48/100\n",
      "5s - loss: 0.9827 - val_loss: 1.1131\n",
      "Epoch 49/100\n",
      "5s - loss: 0.9817 - val_loss: 1.0945\n",
      "Epoch 50/100\n",
      "5s - loss: 0.9811 - val_loss: 1.1043\n",
      "Epoch 51/100\n",
      "5s - loss: 0.9806 - val_loss: 1.0884\n",
      "Epoch 52/100\n",
      "5s - loss: 0.9797 - val_loss: 1.1056\n",
      "Epoch 53/100\n",
      "5s - loss: 0.9790 - val_loss: 1.0980\n",
      "Epoch 54/100\n",
      "5s - loss: 0.9783 - val_loss: 1.1020\n",
      "Epoch 55/100\n",
      "5s - loss: 0.9779 - val_loss: 1.0949\n",
      "Epoch 56/100\n",
      "5s - loss: 0.9773 - val_loss: 1.1030\n",
      "Epoch 57/100\n",
      "5s - loss: 0.9764 - val_loss: 1.1102\n",
      "Epoch 58/100\n",
      "5s - loss: 0.9756 - val_loss: 1.0981\n",
      "Epoch 59/100\n",
      "5s - loss: 0.9750 - val_loss: 1.1060\n",
      "Epoch 60/100\n",
      "5s - loss: 0.9744 - val_loss: 1.1052\n",
      "Epoch 61/100\n",
      "5s - loss: 0.9738 - val_loss: 1.0909\n",
      "Epoch 62/100\n",
      "5s - loss: 0.9730 - val_loss: 1.1119\n",
      "Epoch 63/100\n",
      "5s - loss: 0.9726 - val_loss: 1.0906\n",
      "Epoch 64/100\n",
      "5s - loss: 0.9722 - val_loss: 1.0909\n",
      "Epoch 65/100\n",
      "5s - loss: 0.9714 - val_loss: 1.0933\n",
      "Epoch 66/100\n",
      "5s - loss: 0.9710 - val_loss: 1.0900\n",
      "Epoch 67/100\n",
      "5s - loss: 0.9706 - val_loss: 1.0994\n",
      "Epoch 68/100\n",
      "5s - loss: 0.9697 - val_loss: 1.0923\n",
      "Epoch 69/100\n",
      "5s - loss: 0.9698 - val_loss: 1.1020\n",
      "Epoch 70/100\n",
      "5s - loss: 0.9690 - val_loss: 1.0990\n",
      "Epoch 71/100\n",
      "5s - loss: 0.9684 - val_loss: 1.0932\n",
      "Epoch 72/100\n",
      "5s - loss: 0.9681 - val_loss: 1.0901\n",
      "Epoch 73/100\n",
      "5s - loss: 0.9676 - val_loss: 1.1084\n",
      "Epoch 74/100\n",
      "5s - loss: 0.9669 - val_loss: 1.0936\n",
      "Epoch 75/100\n",
      "5s - loss: 0.9665 - val_loss: 1.0873\n",
      "Epoch 76/100\n",
      "5s - loss: 0.9663 - val_loss: 1.0950\n",
      "Epoch 77/100\n",
      "5s - loss: 0.9656 - val_loss: 1.0897\n",
      "Epoch 78/100\n",
      "5s - loss: 0.9653 - val_loss: 1.0850\n",
      "Epoch 79/100\n",
      "5s - loss: 0.9651 - val_loss: 1.0858\n",
      "Epoch 80/100\n",
      "5s - loss: 0.9646 - val_loss: 1.0936\n",
      "Epoch 81/100\n",
      "5s - loss: 0.9640 - val_loss: 1.0863\n",
      "Epoch 82/100\n",
      "5s - loss: 0.9635 - val_loss: 1.0940\n",
      "Epoch 83/100\n",
      "5s - loss: 0.9634 - val_loss: 1.0915\n",
      "Epoch 84/100\n",
      "5s - loss: 0.9629 - val_loss: 1.0907\n",
      "Epoch 85/100\n",
      "5s - loss: 0.9627 - val_loss: 1.0929\n",
      "Epoch 86/100\n",
      "5s - loss: 0.9620 - val_loss: 1.0989\n",
      "Epoch 87/100\n",
      "5s - loss: 0.9619 - val_loss: 1.0960\n",
      "Epoch 88/100\n",
      "5s - loss: 0.9616 - val_loss: 1.0910\n",
      "Epoch 89/100\n",
      "5s - loss: 0.9610 - val_loss: 1.0954\n",
      "Epoch 90/100\n",
      "5s - loss: 0.9606 - val_loss: 1.0946\n",
      "Epoch 91/100\n",
      "5s - loss: 0.9604 - val_loss: 1.0830\n",
      "Epoch 92/100\n",
      "5s - loss: 0.9602 - val_loss: 1.0959\n",
      "Epoch 93/100\n",
      "5s - loss: 0.9598 - val_loss: 1.0958\n",
      "Epoch 94/100\n",
      "5s - loss: 0.9596 - val_loss: 1.1020\n",
      "Epoch 95/100\n",
      "5s - loss: 0.9591 - val_loss: 1.0847\n",
      "Epoch 96/100\n",
      "5s - loss: 0.9585 - val_loss: 1.0921\n",
      "Epoch 97/100\n",
      "5s - loss: 0.9585 - val_loss: 1.0894\n",
      "Epoch 98/100\n",
      "5s - loss: 0.9581 - val_loss: 1.0893\n",
      "Epoch 99/100\n",
      "5s - loss: 0.9579 - val_loss: 1.0789\n",
      "Epoch 100/100\n",
      "5s - loss: 0.9573 - val_loss: 1.0796\n"
     ]
    }
   ],
   "source": [
    "val=(inputs[dev_idx],outputs[dev_idx])\n",
    "\n",
    "hist=model.fit(inputs[train_idx], outputs[train_idx], batch_size=256, nb_epoch=100, verbose=2, validation_data=val)"
   ]
  },
  {
   "cell_type": "markdown",
   "metadata": {},
   "source": [
    "The training method returns an object that contains the trained model parameters and the training history:"
   ]
  },
  {
   "cell_type": "code",
   "execution_count": 9,
   "metadata": {
    "collapsed": false
   },
   "outputs": [
    {
     "data": {
      "text/plain": [
       "[<matplotlib.lines.Line2D at 0x7febdb365d50>]"
      ]
     },
     "execution_count": 9,
     "metadata": {},
     "output_type": "execute_result"
    },
    {
     "data": {
      "image/png": "[encoded data removed]",
      "text/plain": [
       "<matplotlib.figure.Figure at 0x7febdb3cf790>"
      ]
     },
     "metadata": {},
     "output_type": "display_data"
    }
   ],
   "source": [
    "import matplotlib.pyplot as P\n",
    "%matplotlib inline\n",
    "\n",
    "P.plot(hist.history['loss'])"
   ]
  },
  {
   "cell_type": "markdown",
   "metadata": {},
   "source": [
    "You can get better graphs and more data if you overload the training callback method, which will provide you with the model parameters after each epoch during training.\n",
    "\n",
    "After the model is trained, we can easily test it using the evaluate method. The show_accuracy argument is required to compute the accuracy of the decision variable. The returned result has a 2-element list, where the first value is the loss of the model on the test data and the second is the accuracy, around 70% in this case:"
   ]
  },
  {
   "cell_type": "code",
   "execution_count": 10,
   "metadata": {
    "collapsed": true
   },
   "outputs": [],
   "source": [
    "res=model.evaluate(inputs[test_idx],outputs[test_idx],batch_size=256,show_accuracy=True,verbose=0)"
   ]
  },
  {
   "cell_type": "code",
   "execution_count": 11,
   "metadata": {
    "collapsed": false
   },
   "outputs": [
    {
     "name": "stdout",
     "output_type": "stream",
     "text": [
      "Loss: 1.01005667523\n",
      "Accuracy: 69.811137%\n"
     ]
    }
   ],
   "source": [
    "print 'Loss: {}'.format(res[0])\n",
    "print 'Accuracy: {:%}'.format(res[1])"
   ]
  },
  {
   "cell_type": "markdown",
   "metadata": {},
   "source": [
    "One other way to look at this is to check where the errors occur by looking at what's known as the *confusion matrix*. The confusion matrix counts the number of predicted outputs with respect on how they should have been predicted. All the values on the diagonal (so where the predicted class is equal to the reference) are correct results. Any values outside of the diagonal are the errors, or confusions of one class with another:"
   ]
  },
  {
   "cell_type": "code",
   "execution_count": 28,
   "metadata": {
    "collapsed": true
   },
   "outputs": [],
   "source": [
    "out = model.predict_classes(inputs[test_idx],batch_size=256,verbose=0)"
   ]
  },
  {
   "cell_type": "code",
   "execution_count": 33,
   "metadata": {
    "collapsed": false
   },
   "outputs": [
    {
     "data": {
      "text/plain": [
       "<matplotlib.collections.QuadMesh at 0x7febd468be10>"
      ]
     },
     "execution_count": 33,
     "metadata": {},
     "output_type": "execute_result"
    },
    {
     "data": {
      "image/png": "[encoded data removed]",
      "text/plain": [
       "<matplotlib.figure.Figure at 0x7febd4773150>"
      ]
     },
     "metadata": {},
     "output_type": "display_data"
    }
   ],
   "source": [
    "confusion=np.zeros((output_dim,output_dim))\n",
    "for s in range(len(out)):\n",
    "    confusion[out[s],output_dec[test_idx[s]]]+=1\n",
    "\n",
    "#normalize by class - because some classes occur much more often than others\n",
    "for c in range(output_dim):\n",
    "    confusion[c,:]/=np.sum(confusion[c,:])\n",
    "    \n",
    "P.figure(figsize=(10,10))\n",
    "P.pcolormesh(confusion,cmap=P.cm.gray)"
   ]
  },
  {
   "cell_type": "markdown",
   "metadata": {
    "collapsed": true
   },
   "source": [
    "## Further steps\n",
    "\n",
    "You can play around with the different parameters and network topologies. The results aren't going to be much better using this type of model. Using recurrent topologies (e.g. LSTM) can work better, as well as providing more data. Crucially, however, framewise phoneme classification is not the best benchmark to test and isn't the most useful. Further notebooks will go into other technuiques for getting closer to the best speech recognition can provide."
   ]
  }
 ],
 "metadata": {
  "kernelspec": {
   "display_name": "Python 2",
   "language": "python",
   "name": "python2"
  },
  "language_info": {
   "codemirror_mode": {
    "name": "ipython",
    "version": 2
   },
   "file_extension": ".py",
   "mimetype": "text/x-python",
   "name": "python",
   "nbconvert_exporter": "python",
   "pygments_lexer": "ipython2",
   "version": "2.7.9"
  }
 },
 "nbformat": 4,
 "nbformat_minor": 0
}
