{
 "cells": [
  {
   "cell_type": "markdown",
   "metadata": {},
   "source": [
    "# Using the frame context in the TIMIT MLP model\n",
    "\n",
    "This notebook is an extension of the MLP_TIMIT demo which takes a context of many frames at input to model the same output. So if we have a phoneme, say 'a', instead of just using one vector of 26 features to recognize it, we provide several frames of 26 features before and after the one we are looking at, in order to capture its context. \n",
    "\n",
    "This technique helps greatly improve the the quality of the solution, but isn't as scalable as some other solutions. First of all, the greater the context, the more parameters we need to determine. The bigger the model, the more data is required to accurately appraise all the parameters. \n",
    "\n",
    "One solution would be to use tied weights, rather then a classical dense layer in such a way that different frames (within the context) use the same set of weights, so the number of weights is kept constant even though we use a larger context.\n",
    "\n",
    "Furthermore, the model assumes a context of a specific size. It would be nice if the size is unlimited. Again, this would probably make the model impractical if we use a standard dense layer, but could work with the tied weights technique.\n",
    "\n",
    "Another way of looking at the tied weights solution that has an unlimited context is simple as an RNN. In fact, most implementions of BPTT (used to train RNN) simply unroll the training loop in time and treat the model as a simple MLP with tied weights. This works quite well, but has other issues that are solved using more advanced topologies (LSTM, GRU) which will be dicussed in other notebooks.\n",
    "\n",
    "In this notebook, we will take an MLP which has an input context of 10 frames on the left and the right side of the analyzed frame. This is done in order to reproduce the resutls from the same paper and thesis as in the MLP_TIMIT notebook.\n",
    "\n",
    "We begin with the same introductory code as in the previous notebook:"
   ]
  },
  {
   "cell_type": "code",
   "execution_count": 1,
   "metadata": {
    "collapsed": false
   },
   "outputs": [],
   "source": [
    "import os\n",
    "\n",
    "os.environ['CUDA_VISIBLE_DEVICES']='3'"
   ]
  },
  {
   "cell_type": "code",
   "execution_count": 2,
   "metadata": {
    "collapsed": false
   },
   "outputs": [
    {
     "name": "stderr",
     "output_type": "stream",
     "text": [
      "Using Theano backend.\n",
      "Using gpu device 0: Tesla K80 (CNMeM is enabled)\n",
      "/home/pjwstk.edu.pl/danijel/python_venv/venv1/Theano/theano/tensor/signal/downsample.py:5: UserWarning: downsample module has been moved to the pool module.\n",
      "  warnings.warn(\"downsample module has been moved to the pool module.\")\n"
     ]
    }
   ],
   "source": [
    "import numpy as np\n",
    "from keras.models import Sequential\n",
    "from keras.layers.core import Dense, Activation, Reshape\n",
    "from keras.optimizers import Adam, SGD\n",
    "from IPython.display import clear_output\n",
    "from tqdm import *"
   ]
  },
  {
   "cell_type": "markdown",
   "metadata": {},
   "source": [
    "## Loading the data"
   ]
  },
  {
   "cell_type": "code",
   "execution_count": 3,
   "metadata": {
    "collapsed": false
   },
   "outputs": [],
   "source": [
    "import sys\n",
    "\n",
    "sys.path.append('../python')\n",
    "\n",
    "from data import Corpus, History\n",
    "\n",
    "train=Corpus('../data/TIMIT_train.hdf5',load_normalized=True,merge_utts=False)\n",
    "dev=Corpus('../data/TIMIT_dev.hdf5',load_normalized=True,merge_utts=False)\n",
    "test=Corpus('../data/TIMIT_test.hdf5',load_normalized=True,merge_utts=False)\n",
    "\n",
    "tr_in,tr_out_dec=train.get()\n",
    "dev_in,dev_out_dec=dev.get()\n",
    "tst_in,tst_out_dec=test.get()\n",
    "\n",
    "for u in range(tr_in.shape[0]):\n",
    "    tr_in[u]=tr_in[u][:,:26]\n",
    "for u in range(dev_in.shape[0]):    \n",
    "    dev_in[u]=dev_in[u][:,:26]\n",
    "for u in range(tst_in.shape[0]):\n",
    "    tst_in[u]=tst_in[u][:,:26]"
   ]
  },
  {
   "cell_type": "markdown",
   "metadata": {},
   "source": [
    "## Global training parameters"
   ]
  },
  {
   "cell_type": "code",
   "execution_count": 4,
   "metadata": {
    "collapsed": false
   },
   "outputs": [],
   "source": [
    "input_dim=tr_in[0].shape[1]\n",
    "output_dim=61\n",
    "\n",
    "hidden_num=250\n",
    "\n",
    "epoch_num=1000"
   ]
  },
  {
   "cell_type": "markdown",
   "metadata": {},
   "source": [
    "### 1-hot output"
   ]
  },
  {
   "cell_type": "code",
   "execution_count": null,
   "metadata": {
    "collapsed": true
   },
   "outputs": [],
   "source": [
    "def dec2onehot(dec):\n",
    "    ret=[]\n",
    "    for u in dec:\n",
    "        assert np.all(u<output_dim)\n",
    "        num=u.shape[0]\n",
    "        r=np.zeros((num,output_dim))\n",
    "        r[range(0,num),u]=1\n",
    "        ret.append(r)\n",
    "    return np.array(ret)\n",
    "\n",
    "tr_out=dec2onehot(tr_out_dec)\n",
    "dev_out=dec2onehot(dev_out_dec)\n",
    "tst_out=dec2onehot(tst_out_dec)\n"
   ]
  },
  {
   "cell_type": "markdown",
   "metadata": {},
   "source": [
    "### Adding frame context\n",
    "\n",
    "Here we add the frame context. The number 10 is taken from the paper thesis as: *symmetrical\n",
    "time-windows from 0 to 10 frames*. Now I'm not 100% sure (and it's not  explained anywhere), but I assume this means 10 frames on the left and 10 on the right (i.e. symmetrical), which gives 21 frames alltogether. It's written elsewhere that 0 means no context and uses one frame.\n",
    "\n",
    "In Keras/Python we implement this in a slightly roundabout way: instead of duplicating the data explicitly, we merely make a 3D array that contains the references to the same data ranges in different cells. In other words, if we make an array where each utterance has a shape $(time\\_steps, context*frame\\_size)$, I think it would take more memory than by using the shape $(time\\_steps,context,frame\\_size)$, because in the latter case the same vector (located somewhere in the memory) can be reused in different cotenxts and time steps."
   ]
  },
  {
   "cell_type": "code",
   "execution_count": null,
   "metadata": {
    "collapsed": true
   },
   "outputs": [],
   "source": [
    "#adds context to data\n",
    "ctx_fr=10\n",
    "ctx_size=2*ctx_fr+1\n",
    "\n",
    "def ctx(data):\n",
    "    ret=[]\n",
    "    for utt in data:\n",
    "        l=utt.shape[0]\n",
    "        ur=[]\n",
    "        for t in range(l):\n",
    "            f=[]\n",
    "            for s in range(t-ctx_fr,t+ctx_fr+1):\n",
    "                if(s<0):\n",
    "                    s=0\n",
    "                if(s>=l):\n",
    "                    s=l-1\n",
    "                f.append(utt[s,:])\n",
    "            ur.append(f)\n",
    "        ret.append(np.array(ur))\n",
    "    return np.array(ret)\n",
    "\n",
    "tr_in=ctx(tr_in)\n",
    "dev_in=ctx(dev_in)\n",
    "tst_in=ctx(tst_in)"
   ]
  },
  {
   "cell_type": "code",
   "execution_count": 5,
   "metadata": {
    "collapsed": false
   },
   "outputs": [
    {
     "name": "stdout",
     "output_type": "stream",
     "text": [
      "(3696,)\n",
      "(223, 21, 26)\n"
     ]
    }
   ],
   "source": [
    "print tr_in.shape\n",
    "print tr_in[0].shape"
   ]
  },
  {
   "cell_type": "markdown",
   "metadata": {},
   "source": [
    "## Model definition\n",
    "\n",
    "Since we have an input as a 3D shape, we use a Reshape layer at the start of the model to convert the input frames in to a flat vector. Again, this is to save a little memory at the cost of time it takes to reshape the input. Not sure if its worth it or if it even works as intended.\n",
    "\n",
    "Evertyhing else here is the same as with the standard MLP except for the learning rate which has to be much lower in order to reproduce the same results as in the paper."
   ]
  },
  {
   "cell_type": "code",
   "execution_count": 6,
   "metadata": {
    "collapsed": false
   },
   "outputs": [],
   "source": [
    "model = Sequential()\n",
    "\n",
    "model.add(Reshape(input_shape=(ctx_size,input_dim),dims=(ctx_size*input_dim,)))\n",
    "model.add(Dense(output_dim=hidden_num))\n",
    "model.add(Activation('sigmoid'))\n",
    "model.add(Dense(output_dim=output_dim))\n",
    "model.add(Activation('softmax'))\n",
    "\n",
    "optimizer= Adam(lr=0.00005)\n",
    "#optimizer= SGD(lr=1e-2,momentum=0.9)\n",
    "loss='categorical_crossentropy'\n",
    "\n",
    "model.compile(loss=loss, optimizer=optimizer)"
   ]
  },
  {
   "cell_type": "markdown",
   "metadata": {},
   "source": [
    "## Training"
   ]
  },
  {
   "cell_type": "code",
   "execution_count": 7,
   "metadata": {
    "collapsed": false
   },
   "outputs": [
    {
     "name": "stdout",
     "output_type": "stream",
     "text": [
      "Train loss: 0.980303347111\n",
      "Dev loss: 1.15820479393\n",
      "Dev PER: 35.903402%\n",
      "Test loss: 1.19628190994\n",
      "Test PER: 37.012034%\n",
      "Done!\n"
     ]
    }
   ],
   "source": [
    "tr_hist=History('Train')\n",
    "dev_hist=History('Dev')\n",
    "tst_hist=History('Test')\n",
    "\n",
    "for e in range(epoch_num):\n",
    "    \n",
    "    print 'Epoch #{}/{}'.format(e+1,epoch_num)\n",
    "    sys.stdout.flush()\n",
    "    \n",
    "    for u in tqdm(range(tr_in.shape[0])):\n",
    "        l=model.train_on_batch(tr_in[u],tr_out[u])\n",
    "        tr_hist.r.add(l)        \n",
    "    clear_output()    \n",
    "    tr_hist.log()\n",
    "    \n",
    "    for u in range(dev_in.shape[0]):\n",
    "        l,a=model.test_on_batch(dev_in[u],dev_out[u],accuracy=True)\n",
    "        dev_hist.r.add(l,a,dev_out[u].shape[0])\n",
    "    dev_hist.log()\n",
    "    \n",
    "    \n",
    "    for u in range(tst_in.shape[0]):\n",
    "        l,a=model.test_on_batch(tst_in[u],tst_out[u],accuracy=True)\n",
    "        tst_hist.r.add(l,a,tst_out[u].shape[0])\n",
    "    tst_hist.log()            \n",
    "    \n",
    "print 'Done!'"
   ]
  },
  {
   "cell_type": "markdown",
   "metadata": {},
   "source": [
    "## Plotting progress\n",
    "\n",
    "These can be handy to figure out when the model overfits. Here we can see that the model still learns, even at the end. This suggest we could actually speed up the trainig by raising the learining rate a little bit, but if we go too far, you will notice that the dev/test plots will at some point start to get worse as the train keeps goin down. In case of LR=0.0001, the model would start to overfit much sooner and the value of 36.9 was never reached."
   ]
  },
  {
   "cell_type": "code",
   "execution_count": 19,
   "metadata": {
    "collapsed": false
   },
   "outputs": [
    {
     "data": {
      "text/plain": [
       "(35, 45)"
      ]
     },
     "execution_count": 19,
     "metadata": {},
     "output_type": "execute_result"
    },
    {
     "data": {
      "image/png": "[encoded data removed]",
      "text/plain": [
       "<matplotlib.figure.Figure at 0xac4cff10>"
      ]
     },
     "metadata": {},
     "output_type": "display_data"
    }
   ],
   "source": [
    "import matplotlib.pyplot as P\n",
    "%matplotlib inline\n",
    "\n",
    "fig,ax=P.subplots(2,sharex=True,figsize=(12,10))\n",
    "\n",
    "ax[0].set_title('Loss')\n",
    "ax[0].plot(tr_hist.loss,label='Train')\n",
    "ax[0].plot(dev_hist.loss,label='Dev')\n",
    "ax[0].plot(tst_hist.loss,label='Test')\n",
    "ax[0].legend()\n",
    "ax[0].set_ylim((0.8,2))\n",
    "\n",
    "ax[1].set_title('PER %')\n",
    "ax[1].plot(100*(1-np.array(dev_hist.acc)),label='Dev')\n",
    "ax[1].plot(100*(1-np.array(tst_hist.acc)),label='Test')\n",
    "ax[1].legend()\n",
    "ax[1].set_ylim((35,45))"
   ]
  },
  {
   "cell_type": "markdown",
   "metadata": {},
   "source": [
    "## Final result\n",
    "\n",
    "Here we reach the value provided in the paper, but just barely. I'm not 100% happy about it and would like some suggestions if I did anything wrong. I gave my best to reproduce the conditions as much as I could from reading the papers and I'm not sure what I could have done better"
   ]
  },
  {
   "cell_type": "code",
   "execution_count": 9,
   "metadata": {
    "collapsed": false
   },
   "outputs": [
    {
     "name": "stdout",
     "output_type": "stream",
     "text": [
      "Min test PER: 36.980956%\n",
      "Min dev PER epoch: #983\n",
      "Test PER on min dev: 36.989589%\n"
     ]
    }
   ],
   "source": [
    "print 'Min test PER: {:%}'.format(1-np.max(tst_hist.acc))\n",
    "print 'Min dev PER epoch: #{}'.format((np.argmax(dev_hist.acc)+1))\n",
    "print 'Test PER on min dev: {:%}'.format(1-tst_hist.acc[np.argmax(dev_hist.acc)])"
   ]
  },
  {
   "cell_type": "markdown",
   "metadata": {},
   "source": [
    "Just as before we can check what epoch we reached the optimum. Since we barely reached the value of 36.9 this doesn't even matter too much. I ran the experiment for only 1000 epoch and it might reach below 36.90 after some time later, but this is good enough for me."
   ]
  },
  {
   "cell_type": "code",
   "execution_count": 14,
   "metadata": {
    "collapsed": false
   },
   "outputs": [
    {
     "name": "stdout",
     "output_type": "stream",
     "text": [
      "Epoch where PER reached 36.999999%: #932\n"
     ]
    }
   ],
   "source": [
    "wer=0.36999999\n",
    "print 'Epoch where PER reached {:%}: #{}'.format(wer,np.where((1-np.array(tst_hist.acc))<wer)[0][0])"
   ]
  },
  {
   "cell_type": "markdown",
   "metadata": {},
   "source": [
    "## Checking the accuracy calculation\n",
    "\n",
    "You may notice another difference compared to the standard MLP experiemnt before. Apart from performing the training in batches, here we also do the testing in batches. When computing the final loss value, we simply measure the mean of the consecutive batch loss values, because we assume that weight updates are performed once per batch and the mean loss of the whole batch is used in the cross entropy to asses the model (just like in MSE). \n",
    "\n",
    "With accuracy, however, it's not that simple as using the mean of all the batch accuracies. What we use instad is a weighted average where the weights are determined by the length of each batch/uterance. To make sure this is correct, I do a simple experiment here where I manually count the errors and sample amounts using the predict method. We can see tat the values are identical, so using the weighted average is fine."
   ]
  },
  {
   "cell_type": "code",
   "execution_count": 21,
   "metadata": {
    "collapsed": false
   },
   "outputs": [
    {
     "name": "stdout",
     "output_type": "stream",
     "text": [
      "Manual PER: 37.012034%\n",
      "PER using average: 37.012034%\n"
     ]
    }
   ],
   "source": [
    "err=0\n",
    "cnt=0\n",
    "for u in range(tst_in.shape[0]):\n",
    "    p=model.predict_on_batch(tst_in[u])\n",
    "    c=np.argmax(p,axis=-1)\n",
    "    err+=np.sum(c!=tst_out_dec[u])\n",
    "    cnt+=tst_out[u].shape[0]\n",
    "print 'Manual PER: {:%}'.format(err/float(cnt))\n",
    "print 'PER using average: {:%}'.format(1-tst_hist.acc[-1])"
   ]
  },
  {
   "cell_type": "code",
   "execution_count": null,
   "metadata": {
    "collapsed": true
   },
   "outputs": [],
   "source": []
  }
 ],
 "metadata": {
  "kernelspec": {
   "display_name": "Python 2",
   "language": "python",
   "name": "python2"
  },
  "language_info": {
   "codemirror_mode": {
    "name": "ipython",
    "version": 2
   },
   "file_extension": ".py",
   "mimetype": "text/x-python",
   "name": "python",
   "nbconvert_exporter": "python",
   "pygments_lexer": "ipython2",
   "version": "2.7.5"
  }
 },
 "nbformat": 4,
 "nbformat_minor": 0
}
